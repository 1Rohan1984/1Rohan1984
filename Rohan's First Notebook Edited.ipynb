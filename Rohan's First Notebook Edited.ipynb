{
    "cells": [
        {
            "cell_type": "code",
            "execution_count": 2,
            "metadata": {},
            "outputs": [
                {
                    "data": {
                        "text/plain": "[Row(DATE='2010-01-01 01:00:00', HOURLYVISIBILITY='6', HOURLYDRYBULBTEMPF='33', HOURLYWETBULBTEMPF='32', HOURLYDewPointTempF='31', HOURLYRelativeHumidity='92', HOURLYWindSpeed='0', HOURLYStationPressure='29.97', HOURLYSeaLevelPressure='29.99', HOURLYPrecip='0.01', HOURLYAltimeterSetting='29.99', HOURLYWindDirectionSin='0', HOURLYWindDirectionCos='1', HOURLYPressureTendencyIncr='0', HOURLYPressureTendencyDecr='1', HOURLYPressureTendencyCons='0'),\n Row(DATE='2010-01-01 02:00:00', HOURLYVISIBILITY='6', HOURLYDRYBULBTEMPF='33', HOURLYWETBULBTEMPF='33', HOURLYDewPointTempF='32', HOURLYRelativeHumidity='96', HOURLYWindSpeed='0', HOURLYStationPressure='29.97', HOURLYSeaLevelPressure='29.99', HOURLYPrecip='0.02', HOURLYAltimeterSetting='29.99', HOURLYWindDirectionSin='0', HOURLYWindDirectionCos='1', HOURLYPressureTendencyIncr='0', HOURLYPressureTendencyDecr='1', HOURLYPressureTendencyCons='0'),\n Row(DATE='2010-01-01 03:00:00', HOURLYVISIBILITY='5', HOURLYDRYBULBTEMPF='33', HOURLYWETBULBTEMPF='33', HOURLYDewPointTempF='32', HOURLYRelativeHumidity='96', HOURLYWindSpeed='0', HOURLYStationPressure='29.97', HOURLYSeaLevelPressure='29.99', HOURLYPrecip='0', HOURLYAltimeterSetting='29.99', HOURLYWindDirectionSin='0', HOURLYWindDirectionCos='1', HOURLYPressureTendencyIncr='0', HOURLYPressureTendencyDecr='1', HOURLYPressureTendencyCons='0'),\n Row(DATE='2010-01-01 04:00:00', HOURLYVISIBILITY='5', HOURLYDRYBULBTEMPF='33', HOURLYWETBULBTEMPF='33', HOURLYDewPointTempF='32', HOURLYRelativeHumidity='96', HOURLYWindSpeed='0', HOURLYStationPressure='29.95', HOURLYSeaLevelPressure='29.97', HOURLYPrecip='0', HOURLYAltimeterSetting='29.97', HOURLYWindDirectionSin='0', HOURLYWindDirectionCos='1', HOURLYPressureTendencyIncr='0', HOURLYPressureTendencyDecr='1', HOURLYPressureTendencyCons='0'),\n Row(DATE='2010-01-01 05:00:00', HOURLYVISIBILITY='5', HOURLYDRYBULBTEMPF='33', HOURLYWETBULBTEMPF='32', HOURLYDewPointTempF='31', HOURLYRelativeHumidity='92', HOURLYWindSpeed='0', HOURLYStationPressure='29.93', HOURLYSeaLevelPressure='29.96', HOURLYPrecip='0', HOURLYAltimeterSetting='29.95', HOURLYWindDirectionSin='0', HOURLYWindDirectionCos='1', HOURLYPressureTendencyIncr='0', HOURLYPressureTendencyDecr='1', HOURLYPressureTendencyCons='0')]"
                    },
                    "execution_count": 2,
                    "metadata": {},
                    "output_type": "execute_result"
                }
            ],
            "source": "# The code was removed by Watson Studio for sharing."
        },
        {
            "cell_type": "code",
            "execution_count": null,
            "metadata": {},
            "outputs": [],
            "source": ""
        }
    ],
    "metadata": {
        "kernelspec": {
            "display_name": "Python 3.7 with Spark",
            "language": "python3",
            "name": "python37"
        },
        "language_info": {
            "codemirror_mode": {
                "name": "ipython",
                "version": 3
            },
            "file_extension": ".py",
            "mimetype": "text/x-python",
            "name": "python",
            "nbconvert_exporter": "python",
            "pygments_lexer": "ipython3",
            "version": "3.7.10"
        }
    },
    "nbformat": 4,
    "nbformat_minor": 1
}